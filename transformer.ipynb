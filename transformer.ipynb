{
  "nbformat": 4,
  "nbformat_minor": 0,
  "metadata": {
    "colab": {
      "provenance": [],
      "toc_visible": true,
      "authorship_tag": "ABX9TyMDBY0PZAaHv+4pMfxRbce1",
      "include_colab_link": true
    },
    "kernelspec": {
      "name": "python3",
      "display_name": "Python 3"
    },
    "language_info": {
      "name": "python"
    }
  },
  "cells": [
    {
      "cell_type": "markdown",
      "metadata": {
        "id": "view-in-github",
        "colab_type": "text"
      },
      "source": [
        "<a href=\"https://colab.research.google.com/github/junyu-chen-academic/Transformer/blob/main/transformer.ipynb\" target=\"_parent\"><img src=\"https://colab.research.google.com/assets/colab-badge.svg\" alt=\"Open In Colab\"/></a>"
      ]
    },
    {
      "cell_type": "code",
      "execution_count": null,
      "metadata": {
        "colab": {
          "base_uri": "https://localhost:8080/"
        },
        "id": "Lc_5PIbIP95F",
        "outputId": "7550f7b9-dc69-42fe-e801-a70d6d9ec529"
      },
      "outputs": [
        {
          "output_type": "execute_result",
          "data": {
            "text/plain": [
              "<torch._C.Generator at 0x7a1fd4f94c50>"
            ]
          },
          "metadata": {},
          "execution_count": 1
        }
      ],
      "source": [
        "######################################\n",
        "### importing libraries\n",
        "######################################\n",
        "import math\n",
        "import numpy as np\n",
        "import matplotlib.pyplot as plt\n",
        "\n",
        "import torch\n",
        "import torch.nn as nn\n",
        "import torch.nn.functional as F\n",
        "from torch import Tensor\n",
        "from torch.utils.data import Dataset, TensorDataset, DataLoader\n",
        "\n",
        "seed = 2024\n",
        "torch.manual_seed(seed)"
      ]
    },
    {
      "cell_type": "markdown",
      "source": [
        "# 1. Data Preprocessing"
      ],
      "metadata": {
        "id": "ILSRQXq2S4ZP"
      }
    },
    {
      "cell_type": "markdown",
      "source": [
        "## 1.1 Word Embedding"
      ],
      "metadata": {
        "id": "H9QjyuUfQsEK"
      }
    },
    {
      "cell_type": "code",
      "source": [
        "###########################################################\n",
        "###########################################################\n",
        "# tokenize the sequences\n",
        "def tokenize(sequence):\n",
        "\n",
        "    # remove punctuation\n",
        "    for punc in [\"!\", \",\", \".\", \"?\"]:\n",
        "        sequence = sequence.replace(punc, \"\")\n",
        "\n",
        "    # split the sequence on spaces and lowercase each token\n",
        "    return [token.lower() for token in sequence.split(\" \")]\n",
        "\n",
        "def build_vocab(data):\n",
        "\n",
        "    # tokenize the data and remove duplicates\n",
        "    vocab = list(set(tokenize(data)))\n",
        "\n",
        "    # sort the vocabulary\n",
        "    vocab.sort()\n",
        "\n",
        "    # assign an integer to each word\n",
        "    vocab = {word:i for i, word in enumerate(vocab)}\n",
        "\n",
        "    return vocab"
      ],
      "metadata": {
        "id": "1hl-xsvRQaLn"
      },
      "execution_count": null,
      "outputs": []
    },
    {
      "cell_type": "markdown",
      "source": [
        "## 1.2 Positional Encoding\n",
        "\n",
        "The original mapping we applied in positional encoding is\n",
        "$$\n",
        "\\begin{align}\n",
        "    p_{k,2i} &= \\sin(\\frac{k}{10000^{\\frac{2i}{d}}}), \\\\\n",
        "    p_{k,2i+1} &= \\cos(\\frac{k}{10000^{\\frac{2i}{d}}}),\n",
        "\\end{align}\n",
        "$$\n",
        "for $k \\in \\{1, \\ldots, n\\}$ and $i \\in \\{0, \\ldots, \\frac{d}{2} - 1\\}$. However, this basic implementation is not efficient due to its use of nested loops.\n",
        "\n",
        "Instead, we modify the divisor using logarithmic rules:\n",
        "$$\n",
        "\\begin{align}\n",
        "    \\frac{1}{10000^{\\frac{2i}{d}}} = e^{\\frac{-2i \\log(n)}{d}}.\n",
        "\\end{align}\n",
        "$$\n",
        "It is apparent that only two divisors are necessary for a $4$-dimensional embedding since the divisor only changes every $2i$."
      ],
      "metadata": {
        "id": "YlzXArTgSx_Z"
      }
    },
    {
      "cell_type": "code",
      "source": [
        "###########################################################\n",
        "###########################################################\n",
        "class PositionalEncoding(nn.Module):\n",
        "\n",
        "    def __init__(\n",
        "        self,\n",
        "        d_model: int,\n",
        "        dropout: float = 0.0,\n",
        "        max_length: int = 5000\n",
        "    ):\n",
        "        \"\"\"\n",
        "        Args:\n",
        "          d_model:      dimension of embeddings\n",
        "          dropout:      probability of randomly zeroes-out some of the input\n",
        "          max_length:   max sequence length\n",
        "        \"\"\"\n",
        "        super().__init__()\n",
        "\n",
        "        # initialize dropout\n",
        "        self.dropout = nn.Dropout(p=dropout)\n",
        "        # create a N x d tensor of zeros\n",
        "        pe = torch.zeros(max_length, d_model)\n",
        "\n",
        "        # calculate the numerator\n",
        "        # unsqueeze(1) adds a new dimension at the first axis (index 1), transforming the 1D tensor into a 2D column vector.\n",
        "        k = torch.arange(0, max_length).unsqueeze(1)\n",
        "\n",
        "        # calculate the denominator\n",
        "        div_term = torch.exp(torch.arange(0, d_model, 2) * (- (math.log(10000.0) / d_model)))\n",
        "\n",
        "        # calculate sine on even indices, and cosine on odd indices.\n",
        "        pe[:, 0::2] = torch.sin(k * div_term)\n",
        "        pe[:, 1::2] = torch.cos(k * div_term)\n",
        "\n",
        "        # add dimension\n",
        "        pe = pe.unsqueeze(0)\n",
        "\n",
        "        # buffers are saved in state_dict but not trained by the optimizer\n",
        "        self.register_buffer(\"pe\", pe)\n",
        "\n",
        "    def forward(self, x: Tensor):\n",
        "        \"\"\"\n",
        "        Args:\n",
        "          x:        input embeddings (batch_size, seq_length, d_model)\n",
        "\n",
        "        Returns:    embeddings + positional encodings (batch_size, seq_length, d_model)\n",
        "        \"\"\"\n",
        "        # add positional encoding to the embeddings\n",
        "        # note that the positional encoding tensor is sliced to match the length of the input sequence.\n",
        "        x = x + self.pe[:, : x.size(1)].requires_grad_(False)\n",
        "\n",
        "        # perform dropout\n",
        "        return self.dropout(x)"
      ],
      "metadata": {
        "id": "Mhf8zablS3Rh"
      },
      "execution_count": null,
      "outputs": []
    },
    {
      "cell_type": "markdown",
      "source": [
        "# 2. Model\n",
        "\n",
        "Things to note:\n",
        "\n",
        "1. we use nn.dropout to prevent overfitting. Dropout randomly zeroes out some values of the output.\n",
        "\n",
        "2. We use the fully connected neural network in the feed forward layer."
      ],
      "metadata": {
        "id": "QOvxrLcXc7NW"
      }
    },
    {
      "cell_type": "markdown",
      "source": [
        "## 2.1 Layers"
      ],
      "metadata": {
        "id": "0yckxJZD7M-5"
      }
    },
    {
      "cell_type": "markdown",
      "source": [
        "### 2.1.1 Attention Layer\n",
        "\n",
        "Each head undergoes single-head attention operation multiple times to obtain different attention scores:\n",
        "$$\n",
        "\\begin{align}\n",
        "    \\mathbf{A}'_{(h)} &= \\text{Attention}(\\mathbf{Q}_{(h)},\\mathbf{K}_{(h)},\\mathbf{V}_{(h)}) = \\text{softmax}(\\frac{\\mathbf{Q}_{(h)}\\mathbf{K}_{(h)}^T}{\\sqrt{d_{k}}})\\mathbf{V}_{(h)}, \\\\\n",
        "    \\text{where }&\n",
        "    \\mathbf{Q}_{(h)}=\\mathbf{X} \\mathbf{W}_{q}^{(h)}, \\quad\n",
        "    \\mathbf{K}_{(h)}=\\mathbf{X} \\mathbf{W}_{k}^{(h)}, \\quad\n",
        "    \\mathbf{V}_{(h)}=\\mathbf{X} \\mathbf{W}_{v}^{(h)}.\n",
        "\\end{align}\n",
        "$$\n",
        "\n",
        "Here, $h$ denotes the number of heads, often $d_{k} = d_{v} = d/h$, and $\\mathbf{W}_{q}^{(h)}, \\mathbf{W}_{k}^{(h)}, \\mathbf{W}_{v}^{(h)} \\in \\mathbb{R}^{d \\times d_{k}}$.\n",
        "\n",
        "Then, we concatenate attention outputs $\\mathbf{A}'_{(h)}$ from all $h$ heads and linearly combine using a learnable weight matrix $\\mathbf{W}_{a} \\in \\mathbb{R}^{hd_{v}\\times d}$:\n",
        "\\begin{equation}\n",
        "    \\mathbf{A} = \\text{Multi-Head}(\\mathbf{Q},\\mathbf{K},\\mathbf{V}) = \\text{Concat}(\\mathbf{A}'_{(1)}, ..., \\mathbf{A}'_{(h)}) \\cdot W_{a},\n",
        "\\end{equation}\n",
        "where $\\mathbf{A} \\in \\mathbb{R}^{n \\times d}$.\n",
        "\n",
        "Note that the softmax function $\\sigma : \\mathbb{R}^{n} \\rightarrow \\mathbb{R}^{n}$ is defined by the formula: $\\sigma(\\mathbf{z})_{i} = e^{z_{i}}/\\sum_{j=1}^{n} e^{z_{j}}$ for $i = \\{1,...,n\\}$."
      ],
      "metadata": {
        "id": "XLCk09ZSdXEs"
      }
    },
    {
      "cell_type": "code",
      "source": [
        "###########################################################\n",
        "###########################################################\n",
        "class MultiHeadAttention(nn.Module):\n",
        "\n",
        "    def __init__(\n",
        "        self,\n",
        "        d_model: int = 512,\n",
        "        n_heads: int = 8,\n",
        "        dropout: float = 0.1\n",
        "    ):\n",
        "        \"\"\"\n",
        "        Args:\n",
        "            d_model:      dimension of embeddings\n",
        "            n_heads:      number of self attention heads\n",
        "            dropout:      probability of dropout occurring\n",
        "        \"\"\"\n",
        "        super().__init__()\n",
        "        torch.manual_seed(seed)\n",
        "        assert d_model % n_heads == 0            # ensure an even num of heads\n",
        "        self.d_model = d_model                   # dim (e.g. 512)\n",
        "        self.n_heads = n_heads                   # 8 heads\n",
        "        self.d_key = d_model // n_heads          # assume d_value equals d_key (e.g. 512/8=64)\n",
        "\n",
        "        self.Wq = nn.Linear(d_model, d_model)    # query weights\n",
        "        self.Wk = nn.Linear(d_model, d_model)    # key weights\n",
        "        self.Wv = nn.Linear(d_model, d_model)    # value weights\n",
        "        self.Wo = nn.Linear(d_model, d_model)    # output weights\n",
        "\n",
        "        self.dropout = nn.Dropout(p=dropout)     # initialize dropout layer\n",
        "\n",
        "    def forward(\n",
        "        self,\n",
        "        query: Tensor,\n",
        "        key: Tensor,\n",
        "        value: Tensor,\n",
        "        mask: Tensor = None\n",
        "    ):\n",
        "        \"\"\"\n",
        "        Args:\n",
        "           query:         query vector         (batch_size, q_length, d_model)\n",
        "           key:           key vector           (batch_size, k_length, d_model)\n",
        "           value:         value vector         (batch_size, s_length, d_model)\n",
        "           mask:          mask for decoder\n",
        "\n",
        "        Returns:\n",
        "           output:        attention values     (batch_size, q_length, d_model)\n",
        "           attn_probs:    softmax scores       (batch_size, n_heads, q_length, k_length)\n",
        "        \"\"\"\n",
        "        batch_size = key.size(0)\n",
        "\n",
        "        # calculate query, key, and value tensors\n",
        "        Q = self.Wq(query)                       # (32, 10, 512) x (512, 512) = (32, 10, 512)\n",
        "        K = self.Wk(key)                         # (32, 10, 512) x (512, 512) = (32, 10, 512)\n",
        "        V = self.Wv(value)                       # (32, 10, 512) x (512, 512) = (32, 10, 512)\n",
        "\n",
        "        # split each tensor into n-heads to compute attention\n",
        "\n",
        "        # query tensor\n",
        "        Q = Q.view(batch_size,                   # (32, 10, 512) -> (32, 10, 8, 64)\n",
        "                   -1,                           # -1 = q_length, -1 allows PyTorch to infer this.\n",
        "                   self.n_heads,\n",
        "                   self.d_key\n",
        "                   ).permute(0, 2, 1, 3)         # (32, 10, 8, 64) -> (32, 8, 10, 64) = (batch_size, n_heads, q_length, d_key)\n",
        "        # key tensor\n",
        "        K = K.view(batch_size,                   # (32, 10, 512) -> (32, 10, 8, 64)\n",
        "                   -1,                           # -1 = k_length, -1 allows PyTorch to infer this.\n",
        "                   self.n_heads,\n",
        "                   self.d_key\n",
        "                   ).permute(0, 2, 1, 3)         # (32, 10, 8, 64) -> (32, 8, 10, 64) = (batch_size, n_heads, k_length, d_key)\n",
        "        # value tensor\n",
        "        V = V.view(batch_size,                   # (32, 10, 512) -> (32, 10, 8, 64)\n",
        "                   -1,                           # -1 = v_length, -1 allows PyTorch to infer this.\n",
        "                   self.n_heads,\n",
        "                   self.d_key\n",
        "                   ).permute(0, 2, 1, 3)         # (32, 10, 8, 64) -> (32, 8, 10, 64) = (batch_size, n_heads, v_length, d_key)\n",
        "\n",
        "        # computes attention\n",
        "        # scaled dot product -> QK^{T} / sqrt(d_key)\n",
        "        # (32, 8, 10, 64) x (32, 8, 64, 10) -> (32, 8, 10, 10) = (batch_size, n_heads, q_length, k_length)\n",
        "        scaled_dot_prod = torch.matmul(Q, K.permute(0, 1, 3, 2)) / math.sqrt(self.d_key)      # sqrt(64)\n",
        "\n",
        "        # fill those positions of product as (-1e10) where mask positions are 0\n",
        "        if mask is not None:\n",
        "            scaled_dot_prod = scaled_dot_prod.masked_fill(mask == 0, -1e10)\n",
        "\n",
        "        # apply softmax\n",
        "        attn_probs = torch.softmax(scaled_dot_prod, dim=-1)\n",
        "\n",
        "        # multiply by values to get attention\n",
        "        A = torch.matmul(self.dropout(attn_probs), V)       # (32, 8, 10, 10) x (32, 8, 10, 64) -> (32, 8, 10, 64)\n",
        "                                                            # (batch_size, n_heads, q_length, k_length) x (batch_size, n_heads, v_length, d_key) -> (batch_size, n_heads, q_length, d_key)\n",
        "\n",
        "        # reshape attention back to (32, 10, 512)\n",
        "        A = A.permute(0, 2, 1, 3).contiguous()              # (32, 8, 10, 64) -> (32, 10, 8, 64)\n",
        "        A = A.view(batch_size, -1, self.n_heads * self.d_key) # (32, 10, 8, 64) -> (32, 10, 8*64) -> (32, 10, 512) = (batch_size, q_length, d_model)\n",
        "\n",
        "        # push through the final weight layer\n",
        "        output = self.Wo(A)                                 # (32, 10, 512) x (512, 512) = (32, 10, 512)\n",
        "\n",
        "        return output, attn_probs                           # return attn_probs for visualization of the scores"
      ],
      "metadata": {
        "id": "9IWYB4KndeQq"
      },
      "execution_count": null,
      "outputs": []
    },
    {
      "cell_type": "markdown",
      "source": [
        "### 2.1.2 Add and Norm Layer\n",
        "\n",
        "Layer normalization speeds up convergence.\n",
        "\n",
        "The LayerNorm function $g: \\mathbb{R}^{n} \\rightarrow \\mathbb{R}^{n}$ is defined by $g(\\mathbf{z}, \\gamma, \\beta)_{i} = \\beta + \\gamma \\frac{(z_{i} - \\mu_{z})}{\\sigma_{z}}$. Here, $\\mu_{z} = \\frac{1}{n} \\sum_{i=1}^{n} z_{i}$ and $\\sigma_{z} = \\sqrt{\\frac{1}{n} \\sum_{i=1}^{n}(z_{i} - \\mu_{z})^{2})}$ denote the mean and standard deviation respectively, $\\gamma$ and $\\beta$ are parameters of the LayerNorm function. After normalization, the input is scaled by $\\gamma$ and shifted by $\\beta$."
      ],
      "metadata": {
        "id": "fFg4-Cg1HcMu"
      }
    },
    {
      "cell_type": "code",
      "source": [
        "###########################################################\n",
        "###########################################################\n",
        "class LayerNorm(nn.Module):\n",
        "\n",
        "    def __init__(\n",
        "        self,\n",
        "        d_model,\n",
        "        eps=1e-5\n",
        "    ):\n",
        "        super().__init__()\n",
        "        # initialize gamma to be all ones\n",
        "        self.gamma = nn.Parameter(torch.ones(d_model))\n",
        "        # initialize beta to be all zeros\n",
        "        self.beta = nn.Parameter(torch.zeros(d_model))\n",
        "        # eps: a small constant (1e-5) added to the variance to avoid division by zero during normalization.\n",
        "        self.eps = eps\n",
        "\n",
        "    def forward(self, src):\n",
        "        # this computes the mean of the input src along the last dimension (-1), which represents the feature dimension.\n",
        "        mean = src.mean(-1, keepdim=True)\n",
        "        # this computes the variance of the input src along the last dimension (-1). unbiased=False means not divided by n-1 but by n.\n",
        "        var = src.var(-1, keepdim=True, unbiased=False)\n",
        "        # return the normalized value\n",
        "        return self.gamma * (src - mean) / torch.sqrt(var + self.eps) + self.beta"
      ],
      "metadata": {
        "id": "W3j5xIDeHky7"
      },
      "execution_count": null,
      "outputs": []
    },
    {
      "cell_type": "markdown",
      "source": [
        "### 2.1.3 Feed Forward Layer\n",
        "\n",
        "It consists of two linear layers."
      ],
      "metadata": {
        "id": "HsxKYc8RHlT2"
      }
    },
    {
      "cell_type": "code",
      "source": [
        "###########################################################\n",
        "###########################################################\n",
        "class PositionwiseFeedForward(nn.Module):\n",
        "\n",
        "  def __init__(\n",
        "      self,\n",
        "      d_model: int,\n",
        "      d_ffn: int,\n",
        "      dropout: float = 0.1\n",
        "  ):\n",
        "    \"\"\"\n",
        "    Args:\n",
        "        d_model:      dimension of embeddings\n",
        "        d_ffn:        dimension of feed-forward network,\n",
        "                      generally set to a value about four times that of d_model.\n",
        "        dropout:      probability of dropout occurring\n",
        "    \"\"\"\n",
        "    super().__init__()\n",
        "\n",
        "    self.w_1 = nn.Linear(d_model, d_ffn)\n",
        "    self.w_2 = nn.Linear(d_ffn, d_model)\n",
        "    self.dropout = nn.Dropout(dropout)\n",
        "\n",
        "  def forward(self, x):\n",
        "    \"\"\"\n",
        "    Args:\n",
        "        x:            output from attention (batch_size, seq_length, d_model)\n",
        "\n",
        "    Returns:\n",
        "        expanded-and-contracted representation (batch_size, seq_length, d_model)\n",
        "    \"\"\"\n",
        "    # w_1(x).relu():            (batch_size, seq_length, d_model) x (d_model, d_ffn)  ->    (batch_size, seq_length, d_ffn)\n",
        "    # w_2(w_1(x).relu()):       (batch_size, seq_length, d_ffn) x (d_ffn, d_model)    ->    (batch_size, seq_length, d_model)\n",
        "    return self.w_2(self.dropout(self.w_1(x).relu()))"
      ],
      "metadata": {
        "id": "USZBiQgoHt2g"
      },
      "execution_count": null,
      "outputs": []
    },
    {
      "cell_type": "markdown",
      "source": [
        "## 2.2 Encoder-Decoder Structure"
      ],
      "metadata": {
        "id": "folwLfE8dIQ4"
      }
    },
    {
      "cell_type": "markdown",
      "source": [
        "### 2.2.1 Encoder Block\n",
        "\n",
        "Stacking each encoder layer forms the encoder block. The original paper by Vaswani et al. stacked 6 encoder layers.\n",
        "\n"
      ],
      "metadata": {
        "id": "GqzVgMCRP065"
      }
    },
    {
      "cell_type": "code",
      "source": [
        "###########################################################\n",
        "###########################################################\n",
        "class EncoderLayer(nn.Module):\n",
        "\n",
        "    def __init__(\n",
        "        self,\n",
        "        d_model: int,\n",
        "        n_heads: int,\n",
        "        d_ffn: int,\n",
        "        dropout: float\n",
        "    ):\n",
        "        \"\"\"\n",
        "        Args:\n",
        "            d_model:      dimension of embeddings\n",
        "            n_heads:      number of heads\n",
        "            d_ffn:        dimension of feed-forward network\n",
        "            dropout:      probability of dropout occurring\n",
        "        \"\"\"\n",
        "        super().__init__()\n",
        "\n",
        "        # multi-head attention sublayer\n",
        "        self.attention = MultiHeadAttention(d_model=d_model, n_heads=n_heads, dropout=dropout)\n",
        "        # layer norm for multi-head attention\n",
        "        self.attn_layer_norm = LayerNorm(d_model=d_model)\n",
        "\n",
        "        # position-wise feed-forward network\n",
        "        self.positionwise_ffn = PositionwiseFeedForward(d_model=d_model, d_ffn=d_ffn, dropout=dropout)\n",
        "        # layer norm for position-wise ffn\n",
        "        self.ffn_layer_norm = LayerNorm(d_model=d_model)\n",
        "\n",
        "        self.dropout = nn.Dropout(p=dropout)\n",
        "\n",
        "    def forward(\n",
        "        self,\n",
        "        src: Tensor,\n",
        "        src_mask: Tensor\n",
        "    ):\n",
        "        \"\"\"\n",
        "        Args:\n",
        "            src:          positionally embedded sequences   (batch_size, seq_length, d_model)\n",
        "            src_mask:     mask for the sequences            (batch_size, 1, 1, seq_length)\n",
        "\n",
        "        Returns:\n",
        "            src:          sequences after self-attention    (batch_size, seq_length, d_model)\n",
        "        \"\"\"\n",
        "        # pass embeddings through multi-head attention\n",
        "        _src, attn_probs = self.attention(query=src, key=src, value=src, mask=src_mask)\n",
        "\n",
        "        # residual add and norm\n",
        "        src = self.attn_layer_norm(src + self.dropout(_src))\n",
        "\n",
        "        # position-wise feed-forward network\n",
        "        _src = self.positionwise_ffn(x=src)\n",
        "\n",
        "        # residual add and norm\n",
        "        src = self.ffn_layer_norm(src + self.dropout(_src))\n",
        "\n",
        "        return src, attn_probs\n",
        "\n",
        "\n",
        "###########################################################\n",
        "###########################################################\n",
        "class Encoder(nn.Module):\n",
        "\n",
        "    def __init__(\n",
        "        self,\n",
        "        d_model: int,\n",
        "        n_layers: int,\n",
        "        n_heads: int,\n",
        "        d_ffn: int,\n",
        "        dropout: float = 0.1\n",
        "    ):\n",
        "        \"\"\"\n",
        "        Args:\n",
        "            d_model:      dimension of embeddings\n",
        "            n_layers:     number of encoder layers\n",
        "            n_heads:      number of heads\n",
        "            d_ffn:        dimension of feed-forward network\n",
        "            dropout:      probability of dropout occurring\n",
        "        \"\"\"\n",
        "        super().__init__()\n",
        "\n",
        "        # create n_layers encoders\n",
        "        self.layers = nn.ModuleList(\n",
        "            [EncoderLayer(d_model=d_model, n_heads=n_heads, d_ffn=d_ffn, dropout=dropout) for layer in range(n_layers)]\n",
        "        )\n",
        "\n",
        "        self.dropout = nn.Dropout(p=dropout)\n",
        "\n",
        "    def forward(\n",
        "        self,\n",
        "        src: Tensor,\n",
        "        src_mask: Tensor\n",
        "    ):\n",
        "        \"\"\"\n",
        "        Args:\n",
        "            src:          embedded sequences                (batch_size, seq_length, d_model)\n",
        "            src_mask:     mask for the sequences            (batch_size, 1, 1, seq_length)\n",
        "\n",
        "        Returns:\n",
        "            src:          sequences after self-attention    (batch_size, seq_length, d_model)\n",
        "        \"\"\"\n",
        "\n",
        "        # pass the sequences through each encoder\n",
        "        for layer in self.layers:\n",
        "            src, attn_probs = layer(src=src, src_mask=src_mask)\n",
        "\n",
        "        self.attn_probs = attn_probs\n",
        "\n",
        "        return src"
      ],
      "metadata": {
        "id": "speYSpVTdA8F"
      },
      "execution_count": null,
      "outputs": []
    },
    {
      "cell_type": "markdown",
      "source": [
        "### 2.2.2 Decoder Block\n",
        "\n",
        "Stacking each decoder layer forms the decoder block. The original paper by Vaswani et al. stacked 6 decoder layers."
      ],
      "metadata": {
        "id": "7l_ClTqyQZVH"
      }
    },
    {
      "cell_type": "code",
      "source": [
        "\n",
        "###########################################################\n",
        "###########################################################\n",
        "class DecoderLayer(nn.Module):\n",
        "\n",
        "    def __init__(\n",
        "        self,\n",
        "        d_model: int,\n",
        "        n_heads: int,\n",
        "        d_ffn: int,\n",
        "        dropout: float\n",
        "    ):\n",
        "        \"\"\"\n",
        "        Args:\n",
        "            d_model:      dimension of embeddings\n",
        "            n_heads:      number of heads\n",
        "            d_ffn:        dimension of feed-forward network\n",
        "            dropout:      probability of dropout occurring\n",
        "        \"\"\"\n",
        "        super().__init__()\n",
        "        # masked multi-head attention sublayer\n",
        "        self.masked_attention = MultiHeadAttention(d_model=d_model, n_heads=n_heads, dropout=dropout)\n",
        "        # layer norm for masked multi-head attention\n",
        "        self.masked_attn_layer_norm = LayerNorm(d_model=d_model)\n",
        "\n",
        "        # multi-head attention sublayer\n",
        "        self.attention = MultiHeadAttention(d_model=d_model, n_heads=n_heads, dropout=dropout)\n",
        "        # layer norm for multi-head attention\n",
        "        self.attn_layer_norm = LayerNorm(d_model=d_model)\n",
        "\n",
        "        # position-wise feed-forward network\n",
        "        self.positionwise_ffn = PositionwiseFeedForward(d_model=d_model, d_ffn=d_ffn, dropout=dropout)\n",
        "        # layer norm for position-wise ffn\n",
        "        self.ffn_layer_norm = LayerNorm(d_model=d_model)\n",
        "\n",
        "        self.dropout = nn.Dropout(p=dropout)\n",
        "\n",
        "    def forward(\n",
        "        self,\n",
        "        trg: Tensor,\n",
        "        src: Tensor,\n",
        "        trg_mask: Tensor,\n",
        "        src_mask: Tensor\n",
        "    ):\n",
        "        \"\"\"\n",
        "        Args:\n",
        "            trg:          target embedded sequences                (batch_size, trg_seq_length, d_model)\n",
        "            src:          source embedded sequences                (batch_size, src_seq_length, d_model)\n",
        "            trg_mask:     mask for the target sequences            (batch_size, 1, trg_seq_length, trg_seq_length)\n",
        "            src_mask:     mask for the source sequences            (batch_size, 1, 1, src_seq_length)\n",
        "\n",
        "        Returns:\n",
        "            trg:          sequences after self-attention    (batch_size, trg_seq_length, d_model)\n",
        "            attn_probs:   attention softmax scores          (batch_size, n_heads, trg_seq_length, src_seq_length)\n",
        "        \"\"\"\n",
        "        # pass trg embeddings through masked multi-head attention\n",
        "        _trg, attn_probs = self.masked_attention(query=trg, key=trg, value=trg, mask=trg_mask)\n",
        "\n",
        "        # residual add and norm\n",
        "        trg = self.masked_attn_layer_norm(trg + self.dropout(_trg))\n",
        "\n",
        "        # pass trg and src embeddings through multi-head attention\n",
        "        _trg, attn_probs = self.attention(query=trg, key=src, value=src, mask=src_mask)\n",
        "\n",
        "        # residual add and norm\n",
        "        trg = self.attn_layer_norm(trg + self.dropout(_trg))\n",
        "\n",
        "        # position-wise feed-forward network\n",
        "        _trg = self.positionwise_ffn(x=trg)\n",
        "\n",
        "        # residual add and norm\n",
        "        trg = self.ffn_layer_norm(trg + self.dropout(_trg))\n",
        "\n",
        "        return trg, attn_probs\n",
        "\n",
        "###########################################################\n",
        "###########################################################\n",
        "class Decoder(nn.Module):\n",
        "\n",
        "    def __init__(\n",
        "        self,\n",
        "        vocab_size: int,\n",
        "        d_model: int,\n",
        "        n_layers: int,\n",
        "        n_heads: int,\n",
        "        d_ffn: int,\n",
        "        dropout: float = 0.1\n",
        "    ):\n",
        "        \"\"\"\n",
        "        Args:\n",
        "            vocab_size:   size of the vocabulary\n",
        "            d_model:      dimension of embeddings\n",
        "            n_layers:     number of encoder layers\n",
        "            n_heads:      number of heads\n",
        "            d_ffn:        dimension of feed-forward network\n",
        "            dropout:      probability of dropout occurring\n",
        "        \"\"\"\n",
        "        super().__init__()\n",
        "\n",
        "        # create n_layers encoders\n",
        "        self.layers = nn.ModuleList(\n",
        "            [DecoderLayer(d_model=d_model, n_heads=n_heads, d_ffn=d_ffn, dropout=dropout) for layer in range(n_layers)]\n",
        "        )\n",
        "        self.dropout = nn.Dropout(p=dropout)\n",
        "        # set output layer\n",
        "        self.Wo = nn.Linear(d_model, vocab_size)\n",
        "\n",
        "    def forward(\n",
        "        self,\n",
        "        trg: Tensor,\n",
        "        src: Tensor,\n",
        "        trg_mask:\n",
        "        Tensor,\n",
        "        src_mask: Tensor\n",
        "    ):\n",
        "        \"\"\"\n",
        "        Args:\n",
        "            trg:          embedded sequences                (batch_size, trg_seq_length, d_model)\n",
        "            src:          encoded sequences from encoder    (batch_size, src_seq_length, d_model)\n",
        "            trg_mask:     mask for the sequences            (batch_size, 1, trg_seq_length, trg_seq_length)\n",
        "            src_mask:     mask for the sequences            (batch_size, 1, 1, src_seq_length)\n",
        "\n",
        "        Returns:\n",
        "            output:       sequences after decoder           (batch_size, trg_seq_length, vocab_size)\n",
        "            attn_probs:   self-attention softmax scores     (batch_size, n_heads, trg_seq_length, src_seq_length)\n",
        "        \"\"\"\n",
        "\n",
        "        # pass the sequences through each decoder\n",
        "        for layer in self.layers:\n",
        "            trg, attn_probs = layer(trg=trg, src=src, trg_mask=trg_mask, src_mask=src_mask)\n",
        "\n",
        "        self.attn_probs = attn_probs\n",
        "\n",
        "        return self.Wo(trg)"
      ],
      "metadata": {
        "id": "qB2hfS6bQd1h"
      },
      "execution_count": null,
      "outputs": []
    },
    {
      "cell_type": "markdown",
      "source": [
        "# 4. Time Series Forecasting Example (main process)\n",
        "\n",
        "**Task definition:**\n",
        "\n",
        "We want to predict the value of the next one time step given the observed 200 time steps."
      ],
      "metadata": {
        "id": "RG8ZNExlcE-3"
      }
    },
    {
      "cell_type": "markdown",
      "source": [
        "## 4.1 Data Generation Process\n",
        "\n",
        "1. The training dataset consists of a noisy sine wave with 1000 data points.\n",
        "\n",
        "2. It is restructured for time series prediction, where each input sequence consists of 200 consecutive time steps, and the target is the next point in the sequence.\n",
        "\n",
        "3. Input shape: 800 sequences, 200 time steps **(batch_size, sequence length, dimension)** = (800 x 200 x 1)\n",
        "\n",
        "4. Target shape: 800 targets **(batch_size, dimension)** = (800 x 1)"
      ],
      "metadata": {
        "id": "Qca_jdrfnc09"
      }
    },
    {
      "cell_type": "code",
      "source": [
        "######################################\n",
        "### Data settings\n",
        "######################################\n",
        "data_size = 1000\n",
        "sequence_length = 200 # number of time steps per input sequence\n",
        "d_model = 1 # dimension"
      ],
      "metadata": {
        "id": "ULoQdMXgI-VA"
      },
      "execution_count": null,
      "outputs": []
    },
    {
      "cell_type": "code",
      "source": [
        "# construct the sinus wave\n",
        "x = np.linspace(0, 10, data_size)\n",
        "y = np.sin(x)\n",
        "\n",
        "# add some noise by N(mean=0, std=0.05)\n",
        "y = y + np.random.normal(0, 0.05, data_size)\n",
        "\n",
        "# plot\n",
        "plt.plot(x, y)\n",
        "plt.show()"
      ],
      "metadata": {
        "colab": {
          "base_uri": "https://localhost:8080/",
          "height": 429
        },
        "id": "I1s9JCKdn4UD",
        "outputId": "25790aef-d4f2-4ac7-8a4d-76be27b768ad"
      },
      "execution_count": null,
      "outputs": [
        {
          "output_type": "display_data",
          "data": {
            "text/plain": [
              "<Figure size 640x480 with 1 Axes>"
            ],
            "image/png": "[encoded data removed]"
          },
          "metadata": {}
        }
      ]
    },
    {
      "cell_type": "code",
      "source": [
        "# create input-output pairs (X: input sequence, Y: target)\n",
        "X = []\n",
        "Y = []\n",
        "\n",
        "for i in range(data_size - sequence_length):\n",
        "    X.append(y[i : i + sequence_length])  # Take a sequence of `sequence_length` as input\n",
        "    Y.append(y[i + sequence_length])     # The next point after the sequence is the target\n",
        "\n",
        "# Convert to numpy arrays\n",
        "X = np.array(X)\n",
        "Y = np.array(Y)\n",
        "\n",
        "print(f'X shape: {X.shape}')\n",
        "print(f'Y shape: {Y.shape}')\n",
        "\n",
        "# reshape X to (batch_size, sequence_length, d_model)\n",
        "X = X.reshape(X.shape[0], X.shape[1], d_model)\n",
        "Y = Y.reshape(len(Y), d_model)\n",
        "\n",
        "print(f\"Input shape: {Tensor(X).shape}\")\n",
        "print(f\"Target shape: {Tensor(Y).shape}\")\n",
        "\n",
        "dataset = TensorDataset(Tensor(X), Tensor(Y))\n",
        "\n",
        "# Create a DataLoader\n",
        "batch_size = 32  # You can define your desired batch size here\n",
        "dataloader = DataLoader(dataset, batch_size=12, shuffle=True)"
      ],
      "metadata": {
        "colab": {
          "base_uri": "https://localhost:8080/"
        },
        "id": "y6hyh1JP6D_2",
        "outputId": "1a77efeb-73b9-4357-ca70-0f7de4952d35"
      },
      "execution_count": null,
      "outputs": [
        {
          "output_type": "stream",
          "name": "stdout",
          "text": [
            "X shape: (800, 200)\n",
            "Y shape: (800,)\n",
            "Input shape: torch.Size([800, 200, 1])\n",
            "Target shape: torch.Size([800, 1])\n"
          ]
        }
      ]
    },
    {
      "cell_type": "markdown",
      "source": [
        "## 4.2 Attention Applied to Time Series\n",
        "\n",
        " We use the attention mechanism followed by a feed-forward layer.\n",
        "\n",
        "**Model Structure:**\n",
        "\n",
        "The _TimeSeriesModel_ is a neural network model designed to predict time series data using attention mechanisms. Here's a brief description of the structure\n",
        "- MultiHeadAttention Layer: capture dependencies in time series data.\n",
        "\n",
        "- Linear Layers: passes the attention output through two linear layers with a ReLU activation to predict a single value:\n",
        "  - The first linear layer maps the sequence back to its original length.\n",
        "  - The second reduces the sequence to a single prediction value.\n",
        "\n",
        "- Masking: A masking option prevents attention to future time steps."
      ],
      "metadata": {
        "id": "rejwMNMBm3WH"
      }
    },
    {
      "cell_type": "code",
      "source": [
        "class TimeSeriesModel(nn.Module):\n",
        "    def __init__(\n",
        "        self,\n",
        "        sequence_length: int,\n",
        "        d_model: int = 512,\n",
        "        n_heads: int = 8,\n",
        "        dropout: float = 0.1\n",
        "    ):\n",
        "        super().__init__()\n",
        "        self.attention = MultiHeadAttention(d_model=d_model, n_heads=n_heads, dropout=dropout)\n",
        "        self.linear_layer1 = nn.Linear(sequence_length, sequence_length)\n",
        "        self.linear_layer2 = nn.Linear(sequence_length, 1)\n",
        "        #self.linear_layer2 = nn.Linear(sequence_length, 64)\n",
        "        #self.linear_layer3 = nn.Linear(64, 1)\n",
        "        self.relu = nn.ReLU()\n",
        "\n",
        "    def forward(\n",
        "        self,\n",
        "        x: Tensor,\n",
        "        mask_or_not: bool = True\n",
        "    ):\n",
        "        if mask_or_not == True:\n",
        "          mask_matrix = torch.tril(torch.ones((x.size(1), x.size(1))))\n",
        "          attention_out, _ = self.attention(x, x, x, mask_matrix)  # Using same input for query, key, value\n",
        "        else:\n",
        "          attention_out, _ = self.attention(x, x, x)  # Using same input for query, key, value\n",
        "\n",
        "        # remove the d_model, as we want the 200 points in sequence to be mapped to 1 target\n",
        "        attention_out = attention_out.squeeze(-1)\n",
        "        output = self.linear_layer1(attention_out)\n",
        "        output = self.relu(output)\n",
        "        output = self.linear_layer2(output)\n",
        "        #output = self.relu(output)\n",
        "        #output = self.linear_layer3(output)\n",
        "\n",
        "        return output"
      ],
      "metadata": {
        "id": "_J5mb8nfu1Kd"
      },
      "execution_count": null,
      "outputs": []
    },
    {
      "cell_type": "code",
      "source": [
        "######################################\n",
        "### Model settings\n",
        "######################################\n",
        "n_heads = 1\n",
        "dropout = 0\n",
        "learning_rate = 0.00015\n",
        "epochs = 20\n",
        "batch_size = 8"
      ],
      "metadata": {
        "id": "Ojyw_xl1cLLO"
      },
      "execution_count": null,
      "outputs": []
    },
    {
      "cell_type": "code",
      "source": [
        "######################################\n",
        "### Model training\n",
        "######################################\n",
        "model = TimeSeriesModel(sequence_length=sequence_length, d_model=d_model, n_heads=n_heads, dropout=dropout)\n",
        "\n",
        "model.train()\n",
        "optimizer = torch.optim.Adam(model.parameters(), lr=learning_rate)\n",
        "criterion = nn.MSELoss()\n",
        "\n",
        "for epoch in range(epochs):\n",
        "\n",
        "  for input, target in dataloader:\n",
        "\n",
        "    optimizer.zero_grad()\n",
        "    # forward pass\n",
        "    predicted = model(input, mask_or_not=True)\n",
        "    # calculate loss\n",
        "    loss = criterion(predicted, target)\n",
        "    # backward pass\n",
        "    loss.backward()\n",
        "    # optimization\n",
        "    optimizer.step()\n",
        "\n",
        "  print(f\"Epoch [{epoch+1}/{epochs}], Loss: {loss:.4f}\")"
      ],
      "metadata": {
        "colab": {
          "base_uri": "https://localhost:8080/"
        },
        "id": "sqTy9srN1mNx",
        "outputId": "3e261341-4b5f-434f-81c3-72d1a49eddcb"
      },
      "execution_count": null,
      "outputs": [
        {
          "output_type": "stream",
          "name": "stdout",
          "text": [
            "Epoch [1/20], Loss: 0.1170\n",
            "Epoch [2/20], Loss: 0.0391\n",
            "Epoch [3/20], Loss: 0.0317\n",
            "Epoch [4/20], Loss: 0.0105\n",
            "Epoch [5/20], Loss: 0.0049\n",
            "Epoch [6/20], Loss: 0.0047\n",
            "Epoch [7/20], Loss: 0.0027\n",
            "Epoch [8/20], Loss: 0.0033\n",
            "Epoch [9/20], Loss: 0.0019\n",
            "Epoch [10/20], Loss: 0.0021\n",
            "Epoch [11/20], Loss: 0.0028\n",
            "Epoch [12/20], Loss: 0.0035\n",
            "Epoch [13/20], Loss: 0.0051\n",
            "Epoch [14/20], Loss: 0.0045\n",
            "Epoch [15/20], Loss: 0.0041\n",
            "Epoch [16/20], Loss: 0.0061\n",
            "Epoch [17/20], Loss: 0.0047\n",
            "Epoch [18/20], Loss: 0.0022\n",
            "Epoch [19/20], Loss: 0.0084\n",
            "Epoch [20/20], Loss: 0.0015\n"
          ]
        }
      ]
    },
    {
      "cell_type": "code",
      "source": [
        "######################################\n",
        "### Model Evaluation\n",
        "######################################\n",
        "predict_timesteps = 1200\n",
        "model.eval()\n",
        "\n",
        "y_copy = y.copy()\n",
        "\n",
        "# predict the next 1200 steps\n",
        "for t in range(predict_timesteps):\n",
        "  # extract the last sequence of the training points (200 points)\n",
        "  input_pred = y_copy[len(y_copy) - sequence_length : len(y_copy)]\n",
        "  # reshape (200,) -> (batch_size, sequence_length, d_model) = (1, 200, 1)\n",
        "  input_pred = torch.Tensor(input_pred).view(1, input_pred.shape[0], 1)\n",
        "\n",
        "  # predict\n",
        "  output_pred = model(input_pred, mask_or_not = True)\n",
        "  # reshape (1 x 1) -> (1)\n",
        "  output_pred = output_pred.detach().numpy().reshape(1,)\n",
        "  # append the predicted value to the time series\n",
        "  y_copy = np.concatenate((y_copy, output_pred))\n",
        "\n",
        "\n",
        "\n",
        "# Plot Predictions\n",
        "fig = plt.figure(figsize=(6, 6))\n",
        "plt.plot(\n",
        "    range(y_copy[:data_size].shape[0]),\n",
        "    y_copy[:data_size],\n",
        "    label=\"Training\"\n",
        ")\n",
        "\n",
        "plt.plot(\n",
        "    range(y_copy[:data_size].shape[0], y_copy.shape[0]),\n",
        "    y_copy[data_size : data_size + predict_timesteps],\n",
        "    'r--',\n",
        "    label=\"Predicted\"\n",
        ")\n",
        "plt.plot(\n",
        "    range(y_copy[:data_size].shape[0], y_copy.shape[0]),\n",
        "    np.sin(np.linspace(10, 20, predict_timesteps)),\n",
        "    'g-', label=\"Actual\"\n",
        ")\n",
        "plt.legend(loc='lower left')"
      ],
      "metadata": {
        "colab": {
          "base_uri": "https://localhost:8080/",
          "height": 537
        },
        "id": "RRx_Pd3z13yh",
        "outputId": "721f0527-cb10-4ddc-d1dc-6166d89cf9a1"
      },
      "execution_count": null,
      "outputs": [
        {
          "output_type": "execute_result",
          "data": {
            "text/plain": [
              "<matplotlib.legend.Legend at 0x7a1f192e5900>"
            ]
          },
          "metadata": {},
          "execution_count": 15
        },
        {
          "output_type": "display_data",
          "data": {
            "text/plain": [
              "<Figure size 600x600 with 1 Axes>"
            ],
            "image/png": "[encoded data removed]"
          },
          "metadata": {}
        }
      ]
    },
    {
      "cell_type": "markdown",
      "source": [
        "## 4.3 Encoder Applied to Time Series"
      ],
      "metadata": {
        "id": "tp5OdTni3YlV"
      }
    },
    {
      "cell_type": "code",
      "source": [],
      "metadata": {
        "id": "58eQbM6WpU3f"
      },
      "execution_count": null,
      "outputs": []
    }
  ]
}